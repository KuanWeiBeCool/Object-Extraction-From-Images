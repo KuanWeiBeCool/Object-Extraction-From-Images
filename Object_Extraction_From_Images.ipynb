{
  "nbformat": 4,
  "nbformat_minor": 0,
  "metadata": {
    "colab": {
      "name": "Object Extraction From Images.ipynb",
      "provenance": [],
      "collapsed_sections": [],
      "toc_visible": true,
      "machine_shape": "hm",
      "mount_file_id": "1Gqe-Qh3W2qrh_M9RK7slUwIm3cGzG_cS",
      "authorship_tag": "ABX9TyOkhKB6NNT7SS0pH+dN9s95",
      "include_colab_link": true
    },
    "kernelspec": {
      "name": "python3",
      "display_name": "Python 3"
    }
  },
  "cells": [
    {
      "cell_type": "markdown",
      "metadata": {
        "id": "view-in-github",
        "colab_type": "text"
      },
      "source": [
        "<a href=\"https://colab.research.google.com/github/KuanWeiBeCool/Object-Extraction-From-Images/blob/main/Object_Extraction_From_Images.ipynb\" target=\"_parent\"><img src=\"https://colab.research.google.com/assets/colab-badge.svg\" alt=\"Open In Colab\"/></a>"
      ]
    },
    {
      "cell_type": "code",
      "metadata": {
        "id": "S2EWWZBDQYcJ"
      },
      "source": [
        "import numpy as np\n",
        "import pandas as pd\n",
        "import tensorflow as tf\n",
        "from tensorflow import keras\n",
        "import torch\n",
        "import matplotlib.pyplot as plt\n",
        "import seaborn as sns\n",
        "import sys\n",
        "# np.set_printoptions(threshold=sys.maxsize)"
      ],
      "execution_count": 1,
      "outputs": []
    },
    {
      "cell_type": "code",
      "metadata": {
        "colab": {
          "base_uri": "https://localhost:8080/"
        },
        "id": "hK35D3iKQpLp",
        "outputId": "cea467bf-f36f-4a1c-e4be-e3c9b95e59fb"
      },
      "source": [
        "(x_train, y_train), (x_test, y_test) = tf.keras.datasets.mnist.load_data()\n",
        "print(\"Number of original training examples:\", len(x_train))\n",
        "print(\"Number of original test examples:\", len(x_test))"
      ],
      "execution_count": 2,
      "outputs": [
        {
          "output_type": "stream",
          "text": [
            "Number of original training examples: 60000\n",
            "Number of original test examples: 10000\n"
          ],
          "name": "stdout"
        }
      ]
    },
    {
      "cell_type": "markdown",
      "metadata": {
        "id": "EJ2OKWrT0KJ-"
      },
      "source": [
        "Original MNIST Digits:"
      ]
    },
    {
      "cell_type": "code",
      "metadata": {
        "colab": {
          "base_uri": "https://localhost:8080/",
          "height": 380
        },
        "id": "uK0sEI8FQvDP",
        "outputId": "bc2d0485-f018-4838-9eef-04c62b556393"
      },
      "source": [
        "i = 0\n",
        "fig = plt.figure(figsize=(16,16))\n",
        "for i in range(10):\n",
        "  ax = fig.add_subplot(5, 5, i+1)\n",
        "  ax.imshow(x_train[i, :, :], cmap='gray')\n",
        "  ax.set_xticks([])\n",
        "  ax.set_yticks([])\n",
        "  ax.set_title(\"label: {}\".format(y_train[i]))  \n",
        "plt.show()"
      ],
      "execution_count": 3,
      "outputs": [
        {
          "output_type": "display_data",
          "data": {
            "image/png": "[encoded data removed]",
            "text/plain": [
              "<Figure size 1152x1152 with 10 Axes>"
            ]
          },
          "metadata": {
            "tags": []
          }
        }
      ]
    },
    {
      "cell_type": "markdown",
      "metadata": {
        "id": "2r65MajWwf8h"
      },
      "source": [
        "# Skimage extraction\n",
        "In this section, I will use MNIST Handwritten digit to demonstrate how to extract objects from images."
      ]
    },
    {
      "cell_type": "code",
      "metadata": {
        "colab": {
          "base_uri": "https://localhost:8080/",
          "height": 268
        },
        "id": "tvW-tH5gwfK5",
        "outputId": "3feb8254-4341-4732-dc8f-f7c034d09c75"
      },
      "source": [
        "test_sample = np.zeros((128, 128))\n",
        "# Insert image\n",
        "first_digit = x_train[0]\n",
        "second_digit = x_train[1]\n",
        "test_sample[3:31, 3:31] = first_digit\n",
        "test_sample[80:108, 80:108] = second_digit\n",
        "test_sample[66:70, 66:70] = 256\n",
        "fig = plt.figure()\n",
        "ax = fig.add_subplot(111)\n",
        "ax.imshow(test_sample, cmap='gray')\n",
        "plt.show()"
      ],
      "execution_count": 4,
      "outputs": [
        {
          "output_type": "display_data",
          "data": {
            "image/png": "[encoded data removed]",
            "text/plain": [
              "<Figure size 432x288 with 1 Axes>"
            ]
          },
          "metadata": {
            "tags": [],
            "needs_background": "light"
          }
        }
      ]
    },
    {
      "cell_type": "code",
      "metadata": {
        "id": "92qn9orpGn5u"
      },
      "source": [
        "# import pandas as pd\n",
        "# pd.DataFrame(test_sample[3:31, 3:31]).to_csv('/content/drive/MyDrive/Machine Learning/HandWritten Digits/num_5.csv')"
      ],
      "execution_count": 5,
      "outputs": []
    },
    {
      "cell_type": "code",
      "metadata": {
        "colab": {
          "base_uri": "https://localhost:8080/",
          "height": 252
        },
        "id": "xR58a9HV0bzI",
        "outputId": "dc7103c3-10a1-4f9a-b805-119128c74bb1"
      },
      "source": [
        "from skimage import measure\n",
        "# Find contours at a constant value of 10\n",
        "contours = measure.find_contours(test_sample, 10)\n",
        "\n",
        "# Display the image and plot all contours found\n",
        "fig, ax = plt.subplots()\n",
        "ax.imshow(test_sample, cmap=plt.cm.gray)\n",
        "\n",
        "for contour in contours:\n",
        "    ax.plot(contour[:, 1], contour[:, 0], linewidth=2)\n",
        "\n",
        "ax.axis('image')\n",
        "ax.set_xticks([])\n",
        "ax.set_yticks([])\n",
        "plt.show()"
      ],
      "execution_count": 6,
      "outputs": [
        {
          "output_type": "display_data",
          "data": {
            "image/png": "[encoded data removed]",
            "text/plain": [
              "<Figure size 432x288 with 1 Axes>"
            ]
          },
          "metadata": {
            "tags": []
          }
        }
      ]
    },
    {
      "cell_type": "code",
      "metadata": {
        "colab": {
          "base_uri": "https://localhost:8080/",
          "height": 252
        },
        "id": "HcEngTm2JZ_b",
        "outputId": "ba0b6e17-7c0f-451b-d65e-e3e03ca5e996"
      },
      "source": [
        "# Find contours at a constant value of 150\n",
        "contours = measure.find_contours(test_sample, 150)\n",
        "\n",
        "# Display the image and plot all contours found\n",
        "fig, ax = plt.subplots()\n",
        "ax.imshow(test_sample, cmap=plt.cm.gray)\n",
        "\n",
        "for contour in contours:\n",
        "    ax.plot(contour[:, 1], contour[:, 0], linewidth=2)\n",
        "\n",
        "ax.axis('image')\n",
        "ax.set_xticks([])\n",
        "ax.set_yticks([])\n",
        "plt.show()"
      ],
      "execution_count": 7,
      "outputs": [
        {
          "output_type": "display_data",
          "data": {
            "image/png": "[encoded data removed]",
            "text/plain": [
              "<Figure size 432x288 with 1 Axes>"
            ]
          },
          "metadata": {
            "tags": []
          }
        }
      ]
    },
    {
      "cell_type": "code",
      "metadata": {
        "colab": {
          "base_uri": "https://localhost:8080/"
        },
        "id": "sNP-c7mKMMz1",
        "outputId": "001ec1cd-f73b-4405-a992-495d000a5a63"
      },
      "source": [
        "contours[0][:10]"
      ],
      "execution_count": 12,
      "outputs": [
        {
          "output_type": "execute_result",
          "data": {
            "text/plain": [
              "array([[27.29245283, 11.        ],\n",
              "       [27.40711462, 10.        ],\n",
              "       [27.40711462,  9.        ],\n",
              "       [27.40711462,  8.        ],\n",
              "       [27.        ,  7.11965812],\n",
              "       [26.        ,  7.81196581],\n",
              "       [25.87209302,  8.        ],\n",
              "       [25.63461538,  9.        ],\n",
              "       [25.        ,  9.8627451 ],\n",
              "       [24.87719298, 10.        ]])"
            ]
          },
          "metadata": {
            "tags": []
          },
          "execution_count": 12
        }
      ]
    },
    {
      "cell_type": "markdown",
      "metadata": {
        "id": "qbbX8VakMz-t"
      },
      "source": [
        "The values of contours represent the axis values: contour[:, 1] represents the horizontal axis, and contour[:, 0] represents the vertical axis. Notice that the contour values are not integers. This is because it tries to find the \"level\" value in your pixel array. However, you may not have values exactly equal to the \"level\" value. For example, if your level value is 10, and two values at (1, 1) and (1, 2) are 0 and 20 respectively, then the position of the contour between these two points will be (1, 1.5). "
      ]
    },
    {
      "cell_type": "markdown",
      "metadata": {
        "id": "MlKSkRAuPAMu"
      },
      "source": [
        "Since the values of contours represent the axis values, we can utilize them to crop our image and obtain the object we want. Specifically, the object must contain between max(contour[0]) and min(contour[0]), and between max(contour[1]) and min(contour[1])."
      ]
    },
    {
      "cell_type": "code",
      "metadata": {
        "colab": {
          "base_uri": "https://localhost:8080/",
          "height": 252
        },
        "id": "G18D_WXqO5to",
        "outputId": "89ad2e35-91f4-41ad-f3cf-80cd48c07acb"
      },
      "source": [
        "first_contour = contours[0].astype(int)\n",
        "start_row = min(first_contour[:, 0])\n",
        "end_row = max(first_contour[:, 0])\n",
        "start_col = min(first_contour[:, 1])\n",
        "end_col = max(first_contour[:, 1])\n",
        "\n",
        "fig, ax = plt.subplots()\n",
        "ax.imshow(test_sample[start_row:end_row, start_col:end_col], cmap=plt.cm.gray)\n",
        "ax.axis('image')\n",
        "ax.set_xticks([])\n",
        "ax.set_yticks([])\n",
        "plt.show()"
      ],
      "execution_count": null,
      "outputs": [
        {
          "output_type": "display_data",
          "data": {
            "image/png": "[encoded data removed]",
            "text/plain": [
              "<Figure size 432x288 with 1 Axes>"
            ]
          },
          "metadata": {
            "tags": []
          }
        }
      ]
    },
    {
      "cell_type": "markdown",
      "metadata": {
        "id": "9peK-zlKQYX8"
      },
      "source": [
        "Now that we extracted our first image successfully! However, for \"0\", we can notice that there are two contours: the larger contour in orange contains the entire \"0\" digit, but the smaller contour in green contains the inside part, which is not what we want. Thus, as we know that only two objects need to be extracted, we can choose the two longest contours."
      ]
    },
    {
      "cell_type": "code",
      "metadata": {
        "colab": {
          "base_uri": "https://localhost:8080/"
        },
        "id": "8zC8BKOQRfDj",
        "outputId": "02001103-1a09-4bf9-a2ca-90c177f626b9"
      },
      "source": [
        "contours_lengths = []\n",
        "contours_selected = []\n",
        "num_objects = 2\n",
        "# Obtain the indices for the largest contours\n",
        "for contour in contours:\n",
        "  contours_lengths.append(len(contour))\n",
        "  indices_largest_contours = np.array(contours_lengths).argsort()[-num_objects:][::-1]\n",
        "# Fill the largest contours into a new list\n",
        "for index in indices_largest_contours:\n",
        "  contours_selected.append(contours[index])\n"
      ],
      "execution_count": null,
      "outputs": [
        {
          "output_type": "execute_result",
          "data": {
            "text/plain": [
              "2"
            ]
          },
          "metadata": {
            "tags": []
          },
          "execution_count": 74
        }
      ]
    },
    {
      "cell_type": "code",
      "metadata": {
        "colab": {
          "base_uri": "https://localhost:8080/",
          "height": 252
        },
        "id": "z-tq1vbMToHg",
        "outputId": "4ef382ab-855e-4ab5-94cc-25833dc2e02f"
      },
      "source": [
        "# Obtain number \"0\"\n",
        "second_contour = contours_selected[1].astype(int)\n",
        "start_row = min(second_contour[:, 0])\n",
        "end_row = max(second_contour[:, 0])\n",
        "start_col = min(second_contour[:, 1])\n",
        "end_col = max(second_contour[:, 1])\n",
        "\n",
        "fig, ax = plt.subplots()\n",
        "ax.imshow(test_sample[start_row:end_row, start_col:end_col], cmap=plt.cm.gray)\n",
        "ax.axis('image')\n",
        "ax.set_xticks([])\n",
        "ax.set_yticks([])\n",
        "plt.show()"
      ],
      "execution_count": null,
      "outputs": [
        {
          "output_type": "display_data",
          "data": {
            "image/png": "[encoded data removed]",
            "text/plain": [
              "<Figure size 432x288 with 1 Axes>"
            ]
          },
          "metadata": {
            "tags": []
          }
        }
      ]
    },
    {
      "cell_type": "markdown",
      "metadata": {
        "id": "Rwb6wEMR0lXy"
      },
      "source": [
        "Sometimes, images may be too sharp and if we directly use the image to find contours, we may find many contours that contain small objects of the image. In situations like this, we will need to smoothen the image:"
      ]
    },
    {
      "cell_type": "code",
      "metadata": {
        "colab": {
          "base_uri": "https://localhost:8080/",
          "height": 268
        },
        "id": "uKqxkafCUEp1",
        "outputId": "d21b949c-4767-42a8-e2ea-e0f0972cbffd"
      },
      "source": [
        "from skimage import filters\n",
        "test_sample_smoothed = filters.median(test_sample, selem=np.ones((5, 5)))\n",
        "fig = plt.figure()\n",
        "ax = fig.add_subplot(111)\n",
        "ax.imshow(test_sample_smoothed, cmap='gray')\n",
        "plt.show()"
      ],
      "execution_count": null,
      "outputs": [
        {
          "output_type": "display_data",
          "data": {
            "image/png": "[encoded data removed]",
            "text/plain": [
              "<Figure size 432x288 with 1 Axes>"
            ]
          },
          "metadata": {
            "tags": [],
            "needs_background": "light"
          }
        }
      ]
    }
  ]
}